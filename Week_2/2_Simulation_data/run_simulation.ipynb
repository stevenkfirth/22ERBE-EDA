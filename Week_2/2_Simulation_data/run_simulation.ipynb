{
 "cells": [
  {
   "cell_type": "markdown",
   "id": "bd832f23",
   "metadata": {},
   "source": [
    "# run_simulation\n",
    "\n",
    "This notebook runs an EnergyPlus simulation using the files in the 1_Input_data folder."
   ]
  },
  {
   "cell_type": "markdown",
   "id": "5e7210b3",
   "metadata": {},
   "source": [
    "## setup"
   ]
  },
  {
   "cell_type": "code",
   "execution_count": 25,
   "id": "cc4208d6",
   "metadata": {},
   "outputs": [],
   "source": [
    "import os\n",
    "input_dir=r'C:\\Users\\cvskf\\OneDrive - Loughborough University\\_Git\\stevenkfirth\\22ERBE-EDA\\Week_2\\1_Input_data'"
   ]
  },
  {
   "cell_type": "markdown",
   "id": "1130f93f",
   "metadata": {},
   "source": [
    "## create simulation function"
   ]
  },
  {
   "cell_type": "code",
   "execution_count": 26,
   "id": "0147d267",
   "metadata": {},
   "outputs": [],
   "source": [
    "def run_energyplus(weather_fp,input_fp):\n",
    "    \"\"\"\n",
    "    Runs an energyplus simulation\n",
    "    \"\"\"\n",
    "    !C:\\Users\\cvskf\\EnergyPlusV9-6-0\\energyplus \\\n",
    "        -w \"$weather_fp\" \\\n",
    "        -r \\\n",
    "        \"$input_fp\"\n",
    "        "
   ]
  },
  {
   "cell_type": "markdown",
   "id": "8191f584",
   "metadata": {},
   "source": [
    "## run simulation"
   ]
  },
  {
   "cell_type": "code",
   "execution_count": 30,
   "id": "b301917e",
   "metadata": {},
   "outputs": [
    {
     "name": "stdout",
     "output_type": "stream",
     "text": [
      "EnergyPlus Starting\n",
      "EnergyPlus, Version 9.6.0-f420c06a69, YMD=2023.02.21 14:31\n",
      "Adjusting Air System Sizing\n",
      "Adjusting Standard 62.1 Ventilation Sizing\n",
      "Initializing Simulation\n",
      "Reporting Surfaces\n",
      "Beginning Primary Simulation\n",
      "Initializing New Environment Parameters\n",
      "Warming up {1}\n",
      "Warming up {2}\n",
      "Warming up {3}\n",
      "Warming up {4}\n",
      "Warming up {5}\n",
      "Warming up {6}\n",
      "Warming up {7}\n",
      "Warming up {8}\n",
      "Warming up {9}\n",
      "Warming up {10}\n",
      "Warming up {11}\n",
      "Warming up {12}\n",
      "Warming up {13}\n",
      "Warming up {14}\n",
      "Warming up {15}\n",
      "Warming up {16}\n",
      "Warming up {17}\n",
      "Warming up {18}\n",
      "Warming up {19}\n",
      "Warming up {20}\n",
      "Warming up {21}\n",
      "Warming up {22}\n",
      "Starting Simulation at 12/21 for DENVER CENTENNIAL  GOLDEN   N ANN HTG 99% CONDNS DB\n",
      "Initializing New Environment Parameters\n",
      "Warming up {1}\n",
      "Warming up {2}\n",
      "Warming up {3}\n",
      "Warming up {4}\n",
      "Warming up {5}\n",
      "Warming up {6}\n",
      "Warming up {7}\n",
      "Warming up {8}\n",
      "Warming up {9}\n",
      "Warming up {10}\n",
      "Warming up {11}\n",
      "Warming up {12}\n",
      "Warming up {13}\n",
      "Warming up {14}\n",
      "Warming up {15}\n",
      "Warming up {16}\n",
      "Starting Simulation at 07/21 for DENVER CENTENNIAL  GOLDEN   N ANN CLG 1% CONDNS DB=>MWB\n",
      "Initializing New Environment Parameters\n",
      "Warming up {1}\n",
      "Warming up {2}\n",
      "Warming up {3}\n",
      "Warming up {4}\n",
      "Warming up {5}\n",
      "Warming up {6}\n",
      "Warming up {7}\n",
      "Warming up {8}\n",
      "Warming up {9}\n",
      "Warming up {10}\n",
      "Warming up {11}\n",
      "Warming up {12}\n",
      "Warming up {13}\n",
      "Warming up {14}\n",
      "Warming up {15}\n",
      "Warming up {16}\n",
      "Warming up {17}\n",
      "Warming up {18}\n",
      "Starting Simulation at 01/01/2013 for RUN PERIOD 1\n",
      "Updating Shadowing Calculations, Start Date=01/21/2013\n",
      "Continuing Simulation at 01/21/2013 for RUN PERIOD 1\n",
      "Updating Shadowing Calculations, Start Date=02/10/2013\n",
      "Continuing Simulation at 02/10/2013 for RUN PERIOD 1\n",
      "Updating Shadowing Calculations, Start Date=03/02/2013\n",
      "Continuing Simulation at 03/02/2013 for RUN PERIOD 1\n",
      "Updating Shadowing Calculations, Start Date=03/22/2013\n",
      "Continuing Simulation at 03/22/2013 for RUN PERIOD 1\n",
      "Updating Shadowing Calculations, Start Date=04/11/2013\n",
      "Continuing Simulation at 04/11/2013 for RUN PERIOD 1\n",
      "Updating Shadowing Calculations, Start Date=05/01/2013\n",
      "Continuing Simulation at 05/01/2013 for RUN PERIOD 1\n",
      "Updating Shadowing Calculations, Start Date=05/21/2013\n",
      "Continuing Simulation at 05/21/2013 for RUN PERIOD 1\n",
      "Updating Shadowing Calculations, Start Date=06/10/2013\n",
      "Continuing Simulation at 06/10/2013 for RUN PERIOD 1\n",
      "Updating Shadowing Calculations, Start Date=06/30/2013\n",
      "Continuing Simulation at 06/30/2013 for RUN PERIOD 1\n",
      "Updating Shadowing Calculations, Start Date=07/20/2013\n",
      "Continuing Simulation at 07/20/2013 for RUN PERIOD 1\n",
      "Updating Shadowing Calculations, Start Date=08/09/2013\n",
      "Continuing Simulation at 08/09/2013 for RUN PERIOD 1\n",
      "Updating Shadowing Calculations, Start Date=08/29/2013\n",
      "Continuing Simulation at 08/29/2013 for RUN PERIOD 1\n",
      "Updating Shadowing Calculations, Start Date=09/18/2013\n",
      "Continuing Simulation at 09/18/2013 for RUN PERIOD 1\n",
      "Updating Shadowing Calculations, Start Date=10/08/2013\n",
      "Continuing Simulation at 10/08/2013 for RUN PERIOD 1\n",
      "Updating Shadowing Calculations, Start Date=10/28/2013\n",
      "Continuing Simulation at 10/28/2013 for RUN PERIOD 1\n",
      "Updating Shadowing Calculations, Start Date=11/17/2013\n",
      "Continuing Simulation at 11/17/2013 for RUN PERIOD 1\n",
      "Updating Shadowing Calculations, Start Date=12/07/2013\n",
      "Continuing Simulation at 12/07/2013 for RUN PERIOD 1\n",
      "Updating Shadowing Calculations, Start Date=12/27/2013\n",
      "Continuing Simulation at 12/27/2013 for RUN PERIOD 1\n",
      "Writing tabular output file results using comma format.\n",
      "Writing tabular output file results using tab format.\n",
      "Writing tabular output file results using text format.\n",
      "Writing tabular output file results using HTML format.\n",
      "Writing tabular output file results using XML format.\n",
      " ReadVarsESO program starting.\n",
      " ReadVars Run Time=00hr 00min  0.59sec\n",
      " ReadVarsESO program completed successfully.\n",
      " ReadVarsESO program starting.\n",
      " ReadVars Run Time=00hr 00min  0.25sec\n",
      " ReadVarsESO program completed successfully.\n",
      "EnergyPlus Run Time=00hr 00min  1.78sec\n"
     ]
    },
    {
     "name": "stderr",
     "output_type": "stream",
     "text": [
      "EnergyPlus Completed Successfully.\n"
     ]
    }
   ],
   "source": [
    "weather_fp=input_dir+r\"\\USA_CA_San.Francisco.Intl.AP.724940_TMY3.epw\"\n",
    "input_fp=os.path.join(input_dir,'1ZoneUncontrolled.idf')\n",
    "run_energyplus(weather_fp,input_fp)"
   ]
  },
  {
   "cell_type": "code",
   "execution_count": null,
   "id": "11e7ae16",
   "metadata": {},
   "outputs": [],
   "source": []
  }
 ],
 "metadata": {
  "kernelspec": {
   "display_name": "Python 3 (ipykernel)",
   "language": "python",
   "name": "python3"
  },
  "language_info": {
   "codemirror_mode": {
    "name": "ipython",
    "version": 3
   },
   "file_extension": ".py",
   "mimetype": "text/x-python",
   "name": "python",
   "nbconvert_exporter": "python",
   "pygments_lexer": "ipython3",
   "version": "3.9.7"
  }
 },
 "nbformat": 4,
 "nbformat_minor": 5
}
